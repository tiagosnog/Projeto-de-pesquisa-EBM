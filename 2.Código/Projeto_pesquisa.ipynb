{
 "cells": [
  {
   "cell_type": "markdown",
   "id": "ab37356f",
   "metadata": {},
   "source": [
    "### Extração de dados para amostra 08, static, marker e force."
   ]
  },
  {
   "cell_type": "code",
   "execution_count": 2,
   "id": "21b57857-bb0c-4413-b69f-ff860feb5879",
   "metadata": {},
   "outputs": [],
   "source": [
    "#Bibliotecas\n",
    "import numpy as np\n",
    "import matplotlib.pyplot as plt\n",
    "import pandas as pd"
   ]
  },
  {
   "cell_type": "code",
   "execution_count": 3,
   "id": "5a210a42",
   "metadata": {},
   "outputs": [],
   "source": [
    "#Carregamento de dados: static"
   ]
  },
  {
   "cell_type": "code",
   "execution_count": 4,
   "id": "5fd3d68d",
   "metadata": {},
   "outputs": [],
   "source": [
    "#Carregamento de dados: marker"
   ]
  },
  {
   "cell_type": "code",
   "execution_count": 5,
   "id": "4740219b",
   "metadata": {},
   "outputs": [],
   "source": [
    "#Carregamento de dados: force"
   ]
  },
  {
   "cell_type": "markdown",
   "id": "0705e90b",
   "metadata": {},
   "source": []
  },
  {
   "cell_type": "markdown",
   "id": "33e03601",
   "metadata": {},
   "source": []
  }
 ],
 "metadata": {
  "kernelspec": {
   "display_name": "base",
   "language": "python",
   "name": "python3"
  },
  "language_info": {
   "codemirror_mode": {
    "name": "ipython",
    "version": 3
   },
   "file_extension": ".py",
   "mimetype": "text/x-python",
   "name": "python",
   "nbconvert_exporter": "python",
   "pygments_lexer": "ipython3",
   "version": "3.12.4"
  }
 },
 "nbformat": 4,
 "nbformat_minor": 5
}
